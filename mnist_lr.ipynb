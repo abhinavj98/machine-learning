{
  "nbformat": 4,
  "nbformat_minor": 0,
  "metadata": {
    "colab": {
      "name": "mnist_lr.ipynb",
      "version": "0.3.2",
      "provenance": [],
      "collapsed_sections": [],
      "include_colab_link": true
    },
    "kernelspec": {
      "name": "python3",
      "display_name": "Python 3"
    }
  },
  "cells": [
    {
      "cell_type": "markdown",
      "metadata": {
        "id": "view-in-github",
        "colab_type": "text"
      },
      "source": [
        "<a href=\"https://colab.research.google.com/github/abhinavj98/machine-learning/blob/master/mnist_lr.ipynb\" target=\"_parent\"><img src=\"https://colab.research.google.com/assets/colab-badge.svg\" alt=\"Open In Colab\"/></a>"
      ]
    },
    {
      "metadata": {
        "id": "v9WmMNdYzcN5",
        "colab_type": "code",
        "colab": {}
      },
      "cell_type": "code",
      "source": [
        "import numpy as np\n",
        "import matplotlib\n",
        "import sklearn.datasets\n",
        "import sklearn.model_selection\n",
        "from sklearn.preprocessing import scale\n",
        "import matplotlib.pyplot as plt\n",
        "import random\n",
        "\n",
        "from datetime import datetime\n",
        "from sklearn.model_selection import train_test_split\n",
        "%matplotlib inline"
      ],
      "execution_count": 0,
      "outputs": []
    },
    {
      "metadata": {
        "id": "DWdoTp12z6kX",
        "colab_type": "code",
        "colab": {}
      },
      "cell_type": "code",
      "source": [
        "random.seed(datetime.now())\n",
        "\n",
        "mnist = sklearn.datasets.fetch_openml('mnist_784')\n"
      ],
      "execution_count": 0,
      "outputs": []
    },
    {
      "metadata": {
        "id": "ZYMnpgm-z8ce",
        "colab_type": "code",
        "colab": {
          "base_uri": "https://localhost:8080/",
          "height": 331
        },
        "outputId": "adb558c5-3c96-4df2-f4cd-4228cf9092a5"
      },
      "cell_type": "code",
      "source": [
        " #Visualising data\n",
        "\n",
        "Xraw = mnist.data.astype('float128')\n",
        "yraw = mnist.target.astype('int64')\n",
        "\n",
        "X_train, X_test, y_train, y_test = train_test_split(Xraw, yraw, test_size=0.25, random_state=42)\n",
        "\n",
        "X_train = (X_train.T/255)\n",
        "X_test = (X_test.T/255)\n",
        "y_train_raw = (y_train.reshape(1,-1))\n",
        "y_test_raw = (y_test.reshape(1,-1))\n",
        "\n",
        "\n",
        "Y_train = np.zeros((10, y_train_raw.shape[1]))\n",
        "Y_test = np.zeros((10, y_test_raw.shape[1]))\n",
        "\n",
        "\n",
        "for i,j in enumerate(y_train_raw.T):\n",
        "  Y_train[j,i]=1\n",
        "for i,j in enumerate(y_test_raw.T):\n",
        "  Y_test[j,i]=1\n",
        "\n",
        "X_train_scaled = scale(X_train)\n",
        "X_test_scaled = scale(X_test)\n",
        "\n",
        "for i in range(10):\n",
        "  temp = random.randint(0, mnist.data.shape[1])\n",
        "  plt.subplot(2,5,i+1)\n",
        "  plt.imshow((X_train.T)[temp].reshape(28,28), cmap = 'gray')\n",
        "  \n",
        "plt.show()"
      ],
      "execution_count": 3,
      "outputs": [
        {
          "output_type": "stream",
          "text": [
            "/usr/local/lib/python3.6/dist-packages/sklearn/utils/validation.py:595: DataConversionWarning: Data with input dtype float128 was converted to float64 by the scale function.\n",
            "  warnings.warn(msg, DataConversionWarning)\n",
            "/usr/local/lib/python3.6/dist-packages/sklearn/utils/validation.py:595: DataConversionWarning: Data with input dtype float128 was converted to float64 by the scale function.\n",
            "  warnings.warn(msg, DataConversionWarning)\n",
            "/usr/local/lib/python3.6/dist-packages/matplotlib/image.py:369: UserWarning: Casting input data from 'float128' to 'float64'for imshow\n",
            "  \"for imshow\".format(A.dtype))\n"
          ],
          "name": "stderr"
        },
        {
          "output_type": "display_data",
          "data": {
            "image/png": "[encoded data removed]",
            "text/plain": [
              "<Figure size 432x288 with 10 Axes>"
            ]
          },
          "metadata": {
            "tags": []
          }
        }
      ]
    },
    {
      "metadata": {
        "id": "qKBg-K_Oz_CH",
        "colab_type": "code",
        "colab": {}
      },
      "cell_type": "code",
      "source": [
        "def sigmoid(x):\n",
        "  return 1/(1+np.e ** -x)\n",
        "\n",
        "def derive_sigmoid(x):\n",
        "  return np.multiply(x,(1-x))\n",
        "\n",
        "def forwardProp(W,X):\n",
        "    \n",
        "  cache = {}\n",
        "  W1 = W[0]\n",
        "  b1 = W[1]\n",
        "  \n",
        "  z1 = (np.dot(W1, X)) + b1\n",
        "  a1 = sigmoid(z1).astype('float32')\n",
        "  \n",
        "  cache = {\"a1\" : a1, \"z1\":z1}\n",
        "  return cache\n",
        "    \n",
        "def cost(AL,Y,m):\n",
        "  cost = -1/m*np.sum((np.multiply(Y,np.log(AL))+np.multiply(1-Y,np.log(1-AL))))\n",
        "  return cost\n",
        "\n",
        "def backProp(cache, y, X, W, alpha=0.1,m = 70000):\n",
        "  W1 = W[0]\n",
        "  b1 = W[1]\n",
        "  \n",
        "  dz = cache[\"a1\"]- y\n",
        "  dw = 1/m*np.dot(dz, X.T)\n",
        "  db = 1/m*np.sum(dz, axis = 1, keepdims = True)\n",
        "  \n",
        "  W1 = W1 - alpha*dw\n",
        "  \n",
        "  b1 = b1 - alpha*db\n",
        "  W = [W1,b1]\n",
        "  return W"
      ],
      "execution_count": 0,
      "outputs": []
    },
    {
      "metadata": {
        "id": "R3ch1_164qpH",
        "colab_type": "code",
        "colab": {
          "base_uri": "https://localhost:8080/",
          "height": 2002
        },
        "outputId": "ecc29502-c5b1-481a-9b6c-8c2439db0d76"
      },
      "cell_type": "code",
      "source": [
        "layers = [784,10]\n",
        "costarr = []\n",
        "W1 = np.random.rand(layers[1], layers[0])*np.sqrt(1/layers[0])*0.01\n",
        "b1 = np.zeros((layers[1],1)).astype('float32')\n",
        "\n",
        "W = [W1,b1]  \n",
        "m = X_train_scaled.shape[1]\n",
        "for i in range(200):\n",
        "    cache = forwardProp(W,X_train_scaled)\n",
        "    W = backProp(cache, Y_train,X_train_scaled, W, 0.05,m)\n",
        "    if(i%2 == 0):\n",
        "        a = cost(cache[\"a1\"], Y_train, m)\n",
        "        print(a)\n",
        "        costarr.append(a)\n",
        "\n",
        "plt.plot(costarr)\n",
        "plt.show()"
      ],
      "execution_count": 26,
      "outputs": [
        {
          "output_type": "stream",
          "text": [
            "6.933833815981092\n",
            "2.919115131854605\n",
            "1.9543695120673803\n",
            "1.7594835576198904\n",
            "1.6286752490897374\n",
            "1.532604299579838\n",
            "1.4585784409556237\n",
            "1.3994717561244447\n",
            "1.3509697517055133\n",
            "1.3103027159385654\n",
            "1.2756073674543187\n",
            "1.2455812502139603\n",
            "1.219284433798085\n",
            "1.196020107562735\n",
            "1.175259697133306\n",
            "1.1565942292220766\n",
            "1.1397017779835268\n",
            "1.1243250870578896\n",
            "1.1102558229994055\n",
            "1.097323272658679\n",
            "1.0853860578734367\n",
            "1.0743259873302793\n",
            "1.0640433975213495\n",
            "1.0544536000577895\n",
            "1.045484115859906\n",
            "1.0370725167683392\n",
            "1.0291647098462404\n",
            "1.0217135649846238\n",
            "1.0146778161590935\n",
            "1.008021156322752\n",
            "1.0017115061091375\n",
            "0.995720403375917\n",
            "0.9900225004203149\n",
            "0.984595143943826\n",
            "0.9794180167066204\n",
            "0.9744728448646622\n",
            "0.9697431382914601\n",
            "0.965213979314632\n",
            "0.9608718328219688\n",
            "0.9567043902443635\n",
            "0.9527004308037398\n",
            "0.9488497023531752\n",
            "0.9451428159512298\n",
            "0.94157115733654\n",
            "0.9381268085284699\n",
            "0.9348024747276741\n",
            "0.9315914236994938\n",
            "0.9284874355994397\n",
            "0.9254847499483437\n",
            "0.9225780260898189\n",
            "0.9197623027774269\n",
            "0.9170329667384146\n",
            "0.9143857222342558\n",
            "0.9118165609993605\n",
            "0.9093217421420755\n",
            "0.9068977661690082\n",
            "0.9045413590954772\n",
            "0.9022494489827729\n",
            "0.9000191591214239\n",
            "0.89784778180466\n",
            "0.8957327745880227\n",
            "0.8936717437725568\n",
            "0.8916624326305264\n",
            "0.889702715907569\n",
            "0.8877905852610407\n",
            "0.885924142341594\n",
            "0.8841015946758141\n",
            "0.8823212447444998\n",
            "0.8805814846973616\n",
            "0.8788807906882127\n",
            "0.8772177171030451\n",
            "0.8755908898579676\n",
            "0.8739990053733528\n",
            "0.872440825423191\n",
            "0.870915168806675\n",
            "0.8694209148224171\n",
            "0.8679569899496516\n",
            "0.8665223766999078\n",
            "0.8651161024099475\n",
            "0.8637372384590253\n",
            "0.862384897749325\n",
            "0.8610582338752654\n",
            "0.8597564342782407\n",
            "0.8584787269174565\n",
            "0.8572243671594325\n",
            "0.8559926482670459\n",
            "0.8547828875132772\n",
            "0.8535944306749061\n",
            "0.8524266549640703\n",
            "0.8512789582562046\n",
            "0.8501507655760332\n",
            "0.8490415202319797\n",
            "0.8479506943597156\n",
            "0.8468777731018162\n",
            "0.8458222651762868\n",
            "0.8447836984449596\n",
            "0.8437616172042367\n",
            "0.842755583426479\n",
            "0.841765171064423\n",
            "0.8407899784242738\n"
          ],
          "name": "stdout"
        },
        {
          "output_type": "display_data",
          "data": {
            "image/png": "[encoded data removed]",
            "text/plain": [
              "<Figure size 432x288 with 1 Axes>"
            ]
          },
          "metadata": {
            "tags": []
          }
        }
      ]
    },
    {
      "metadata": {
        "id": "jsRo6tuQ5IGF",
        "colab_type": "code",
        "colab": {}
      },
      "cell_type": "code",
      "source": [
        "def predict(xin,W):\n",
        "  cache = forwardProp(W,xin)\n",
        "  return cache[\"a1\"]\n",
        "\n",
        "def predict_test(xin,y, W):\n",
        "  op = predict(xin, W)\n",
        "  op = (op==np.max(op, axis = 0))\n",
        "  wrong = np.sum(np.abs(op - y), axis = 0)\n",
        "  acc = np.sum(wrong == 0)/xin.shape[1]*100\n",
        "  return acc"
      ],
      "execution_count": 0,
      "outputs": []
    },
    {
      "metadata": {
        "id": "D8lJOywx59RR",
        "colab_type": "code",
        "colab": {
          "base_uri": "https://localhost:8080/",
          "height": 317
        },
        "outputId": "a0bd8a1e-eda9-4ce4-980e-3075710a2ca9"
      },
      "cell_type": "code",
      "source": [
        "num = 1399\n",
        "plt.imshow((X_train.T)[num].reshape(28,28), cmap = 'gray')\n",
        "plt.show()\n",
        "cache = predict((X_train.T)[num].reshape(-1,1), W)\n",
        "\n",
        "print(np.argmax(cache))\n",
        "\n"
      ],
      "execution_count": 29,
      "outputs": [
        {
          "output_type": "stream",
          "text": [
            "/usr/local/lib/python3.6/dist-packages/matplotlib/image.py:369: UserWarning: Casting input data from 'float128' to 'float64'for imshow\n",
            "  \"for imshow\".format(A.dtype))\n"
          ],
          "name": "stderr"
        },
        {
          "output_type": "display_data",
          "data": {
            "image/png": "[encoded data removed]",
            "text/plain": [
              "<Figure size 432x288 with 1 Axes>"
            ]
          },
          "metadata": {
            "tags": []
          }
        },
        {
          "output_type": "stream",
          "text": [
            "6\n"
          ],
          "name": "stdout"
        }
      ]
    },
    {
      "metadata": {
        "id": "1f892lPZ6Ax2",
        "colab_type": "code",
        "colab": {
          "base_uri": "https://localhost:8080/",
          "height": 34
        },
        "outputId": "e1ae2858-4085-489e-a3bb-d336ef7fda0f"
      },
      "cell_type": "code",
      "source": [
        "acc = predict_test(X_test_scaled, Y_test, W)\n",
        "print(acc)"
      ],
      "execution_count": 32,
      "outputs": [
        {
          "output_type": "stream",
          "text": [
            "89.35428571428572\n"
          ],
          "name": "stdout"
        }
      ]
    },
    {
      "metadata": {
        "id": "5k-m0s5W7NzC",
        "colab_type": "code",
        "colab": {}
      },
      "cell_type": "code",
      "source": [
        ""
      ],
      "execution_count": 0,
      "outputs": []
    }
  ]
}