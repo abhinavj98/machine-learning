{
 "cells": [
  {
   "cell_type": "code",
   "execution_count": 1,
   "metadata": {
    "id": "yBiVVs431nSC",
    "colab_type": "code",
    "colab": {}
   },
   "outputs": [],
   "source": [
    "import numpy as np\n",
    "import matplotlib\n",
    "import sklearn.datasets\n",
    "import sklearn.model_selection\n",
    "from sklearn.preprocessing import scale\n",
    "import matplotlib.pyplot as plt\n",
    "import random\n",
    "\n",
    "from datetime import datetime\n",
    "from sklearn.model_selection import train_test_split\n",
    "%matplotlib inline"
   ]
  },
  {
   "cell_type": "markdown",
   "metadata": {
    "id": "mndPuxei1xoH",
    "colab_type": "text"
   },
   "source": [
    ""
   ]
  },
  {
   "cell_type": "code",
   "execution_count": 2,
   "metadata": {
    "id": "Y2BmZPUc1rkx",
    "colab_type": "code",
    "colab": {}
   },
   "outputs": [],
   "source": [
    "random.seed(datetime.now())\n",
    "\n",
    "mnist = sklearn.datasets.fetch_openml('mnist_784')\n"
   ]
  },
  {
   "cell_type": "code",
   "execution_count": 3,
   "metadata": {
    "id": "z8JKenXp5cW8",
    "colab_type": "code",
    "colab": {
     "base_uri": "https://localhost:8080/",
     "height": 331.0
    },
    "outputId": "47ab26e6-dbfe-4882-f388-dc1cf3e94677",
    "collapsed": true
   },
   "outputs": [
    {
     "name": "stderr",
     "output_type": "stream",
     "text": [
      "/home/abhinavj98/.virtualenvs/mnist_tensorflow/lib/python3.5/site-packages/sklearn/utils/validation.py:595: DataConversionWarning: Data with input dtype float128 was converted to float64 by the scale function.\n  warnings.warn(msg, DataConversionWarning)\n"
     ]
    },
    {
     "name": "stderr",
     "output_type": "stream",
     "text": [
      "/home/abhinavj98/.virtualenvs/mnist_tensorflow/lib/python3.5/site-packages/sklearn/utils/validation.py:595: DataConversionWarning: Data with input dtype float128 was converted to float64 by the scale function.\n  warnings.warn(msg, DataConversionWarning)\n"
     ]
    },
    {
     "name": "stderr",
     "output_type": "stream",
     "text": [
      "/home/abhinavj98/.virtualenvs/mnist_tensorflow/lib/python3.5/site-packages/matplotlib/image.py:369: UserWarning: Casting input data from 'float128' to 'float64'for imshow\n  \"for imshow\".format(A.dtype))\n"
     ]
    },
    {
     "data": {
      "image/png": "[encoded data removed]",
      "text/plain": [
       "<Figure size 432x288 with 10 Axes>"
      ]
     },
     "metadata": {},
     "output_type": "display_data"
    }
   ],
   "source": [
    " #Visualising data\n",
    "\n",
    "Xraw = mnist.data.astype('float128')\n",
    "yraw = mnist.target.astype('int64')\n",
    "\n",
    "X_train, X_test, y_train, y_test = train_test_split(Xraw, yraw, test_size=0.25, random_state=42)\n",
    "\n",
    "X_train = (X_train.T/255)\n",
    "X_test = (X_test.T/255)\n",
    "y_train_raw = (y_train.reshape(1,-1))\n",
    "y_test_raw = (y_test.reshape(1,-1))\n",
    "\n",
    "\n",
    "Y_train = np.zeros((10, y_train_raw.shape[1]))\n",
    "Y_test = np.zeros((10, y_test_raw.shape[1]))\n",
    "\n",
    "\n",
    "for i,j in enumerate(y_train_raw.T):\n",
    "  Y_train[j,i]=1\n",
    "for i,j in enumerate(y_test_raw.T):\n",
    "  Y_test[j,i]=1\n",
    "\n",
    "X_train_scaled = scale(X_train)\n",
    "X_test_scaled = scale(X_test)\n",
    "\n",
    "for i in range(10):\n",
    "  temp = random.randint(0, mnist.data.shape[1])\n",
    "  plt.subplot(2,5,i+1)\n",
    "  plt.imshow((X_train.T)[temp].reshape(28,28), cmap = 'gray')\n",
    "  \n",
    "plt.show()"
   ]
  },
  {
   "cell_type": "code",
   "execution_count": 5,
   "metadata": {
    "id": "59XUAII5bJHe",
    "colab_type": "code",
    "colab": {}
   },
   "outputs": [],
   "source": [
    "def sigmoid(x):\n",
    "  return 1/(1+np.e ** -x)\n",
    "\n",
    "def derive(x,act):\n",
    "  if act == \"RELU\":\n",
    "    a = np.multiply((x > 0),x)\n",
    "    return a\n",
    "  if act == \"SIGMOID\":\n",
    "    return np.multiply(x,(1-x))\n",
    "\n",
    "def forwardProp(W,X,layers):\n",
    "    \n",
    "  cache = {}\n",
    "  W1 = W[0]\n",
    "  W2 = W[1]\n",
    "  b1 = W[2]\n",
    "  b2 = W[3]\n",
    "  \n",
    "  #Layer 1\n",
    "  z1 = (np.dot(W1, X)) + b1\n",
    "  a1 = np.multiply(z1,(z1 > 0)).astype('float32')\n",
    "  \n",
    "  #Layer 2\n",
    "  z2 = (np.dot(W2, a1)).astype('float32') + b2\n",
    "  a2 = sigmoid(z2).astype('float32')\n",
    "  \n",
    "  cach = {\"a1\" : a1, \"b1\":b1, \"z1\":z1, \"b2\":b2, \"a2\":a2, \"z2\":z2}\n",
    "  return cach\n",
    "    \n",
    "def cost(AL,Y,m):\n",
    "  cost = -1/m*np.sum((np.multiply(Y,np.log(AL))+np.multiply(1-Y,np.log(1-AL))))\n",
    "  return cost\n",
    "\n",
    "def backProp(cache, y, X, W, alpha=0.1,m = 70000):\n",
    "  W1 = W[0]\n",
    "  W2 = W[1]\n",
    "  b1 = W[2]\n",
    "  b2 = W[3]\n",
    "  \n",
    "  dz2 = cache[\"a2\"]- y\n",
    "  dw2 = 1/m*np.dot(dz2, cache[\"a1\"].T)\n",
    "  db2 = 1/m*np.sum(dz2, axis = 1, keepdims = True)\n",
    "  \n",
    "  dz1 = np.dot(W2.T,dz2)\n",
    "  dz1 = np.multiply(dz1, derive(cache[\"z1\"], \"RELU\"))\n",
    "  \n",
    "  dw1 = 1/m*(np.dot(dz1,X.T))\n",
    "  db1 = 1/m*np.sum(dz1, axis = 1, keepdims = True)\n",
    "  \n",
    "  W2 = W2 - alpha*dw2\n",
    "  W1 = W1 - alpha*dw1\n",
    "  \n",
    "  b1 = b1 - alpha*db1\n",
    "  b2 = b2 - alpha*db2\n",
    "\n",
    "  W = [W1, W2, b1, b2]\n",
    "  return W"
   ]
  },
  {
   "cell_type": "code",
   "execution_count": 6,
   "metadata": {
    "id": "KquIFI7-1r81",
    "colab_type": "code",
    "colab": {
     "base_uri": "https://localhost:8080/",
     "height": 607.0
    },
    "outputId": "62dc79dd-315e-4521-97a9-168169dc14c3",
    "collapsed": false
   },
   "outputs": [
    {
     "name": "stdout",
     "output_type": "stream",
     "text": [
      "[[3.28990963e-04 5.74806439e-05 1.48942877e-04 ... 1.75460142e-04\n  4.44642927e-05 1.69938126e-04]\n [2.46942708e-04 1.95795575e-04 1.51861748e-04 ... 1.57839121e-04\n  3.29487845e-04 1.60791984e-04]\n [2.34256172e-04 2.16162995e-04 2.42184494e-04 ... 3.43382291e-05\n  1.86603943e-04 1.49022024e-04]\n ...\n [2.19282255e-05 2.79297578e-04 1.76836897e-05 ... 1.30362833e-04\n  1.17817105e-04 1.57914103e-04]\n [2.76689705e-04 9.56115743e-05 3.62114258e-05 ... 2.17258746e-04\n  1.84072231e-05 1.73663136e-04]\n [1.73423781e-04 2.10529382e-04 4.72563769e-06 ... 3.43128644e-04\n  2.70181504e-04 4.15674305e-05]]\n"
     ]
    },
    {
     "name": "stdout",
     "output_type": "stream",
     "text": [
      "6.931564600370043\n"
     ]
    },
    {
     "name": "stdout",
     "output_type": "stream",
     "text": [
      "3.8516026736060773\n"
     ]
    },
    {
     "name": "stdout",
     "output_type": "stream",
     "text": [
      "3.115918599316605\n"
     ]
    },
    {
     "name": "stdout",
     "output_type": "stream",
     "text": [
      "3.0032744020598217\n"
     ]
    },
    {
     "name": "stdout",
     "output_type": "stream",
     "text": [
      "2.6215168474490396\n"
     ]
    },
    {
     "name": "stdout",
     "output_type": "stream",
     "text": [
      "2.283777478035738\n"
     ]
    },
    {
     "name": "stdout",
     "output_type": "stream",
     "text": [
      "2.136599119087427\n"
     ]
    },
    {
     "name": "stdout",
     "output_type": "stream",
     "text": [
      "1.9642371692891054\n"
     ]
    },
    {
     "name": "stdout",
     "output_type": "stream",
     "text": [
      "1.8181485983696082\n"
     ]
    },
    {
     "name": "stdout",
     "output_type": "stream",
     "text": [
      "1.7588756220998796\n"
     ]
    },
    {
     "name": "stdout",
     "output_type": "stream",
     "text": [
      "1.6416301601727494\n"
     ]
    },
    {
     "name": "stdout",
     "output_type": "stream",
     "text": [
      "1.3841542213506022\n"
     ]
    },
    {
     "name": "stdout",
     "output_type": "stream",
     "text": [
      "1.178381207596971\n"
     ]
    },
    {
     "name": "stdout",
     "output_type": "stream",
     "text": [
      "1.106890794487593\n"
     ]
    },
    {
     "name": "stdout",
     "output_type": "stream",
     "text": [
      "1.0859977395249192\n"
     ]
    },
    {
     "name": "stdout",
     "output_type": "stream",
     "text": [
      "1.0667307673933253\n"
     ]
    },
    {
     "name": "stdout",
     "output_type": "stream",
     "text": [
      "0.9500929296824042\n"
     ]
    },
    {
     "name": "stdout",
     "output_type": "stream",
     "text": [
      "0.9248863223751699\n"
     ]
    },
    {
     "name": "stdout",
     "output_type": "stream",
     "text": [
      "0.9158288713409197\n"
     ]
    },
    {
     "name": "stdout",
     "output_type": "stream",
     "text": [
      "0.910211928729827\n"
     ]
    },
    {
     "name": "stdout",
     "output_type": "stream",
     "text": [
      "0.9033801535560267\n"
     ]
    },
    {
     "name": "stdout",
     "output_type": "stream",
     "text": [
      "0.8128516780051805\n"
     ]
    },
    {
     "name": "stdout",
     "output_type": "stream",
     "text": [
      "0.7600921118829468\n"
     ]
    },
    {
     "name": "stdout",
     "output_type": "stream",
     "text": [
      "0.7466249033961988\n"
     ]
    },
    {
     "name": "stdout",
     "output_type": "stream",
     "text": [
      "0.7379637407533999\n"
     ]
    },
    {
     "name": "stdout",
     "output_type": "stream",
     "text": [
      "0.7306707776132702\n"
     ]
    },
    {
     "name": "stdout",
     "output_type": "stream",
     "text": [
      "0.7256511908302806\n"
     ]
    },
    {
     "name": "stdout",
     "output_type": "stream",
     "text": [
      "0.7217731345188481\n"
     ]
    },
    {
     "name": "stdout",
     "output_type": "stream",
     "text": [
      "0.7036695142296461\n"
     ]
    },
    {
     "name": "stdout",
     "output_type": "stream",
     "text": [
      "0.7057529819041127\n"
     ]
    },
    {
     "name": "stdout",
     "output_type": "stream",
     "text": [
      "0.7241943100816634\n"
     ]
    },
    {
     "name": "stdout",
     "output_type": "stream",
     "text": [
      "0.7157327515655959\n"
     ]
    },
    {
     "name": "stdout",
     "output_type": "stream",
     "text": [
      "0.6979877769005797\n"
     ]
    },
    {
     "name": "stdout",
     "output_type": "stream",
     "text": [
      "0.6680714977463378\n"
     ]
    },
    {
     "name": "stdout",
     "output_type": "stream",
     "text": [
      "0.6170095693099743\n"
     ]
    },
    {
     "name": "stdout",
     "output_type": "stream",
     "text": [
      "0.592765292219013\n"
     ]
    },
    {
     "name": "stdout",
     "output_type": "stream",
     "text": [
      "0.5814318527839428\n"
     ]
    },
    {
     "name": "stdout",
     "output_type": "stream",
     "text": [
      "0.5747588528054391\n"
     ]
    },
    {
     "name": "stdout",
     "output_type": "stream",
     "text": [
      "0.5714283176619263\n"
     ]
    },
    {
     "name": "stdout",
     "output_type": "stream",
     "text": [
      "0.5656907281925403\n"
     ]
    },
    {
     "data": {
      "image/png": "[encoded data removed]",
      "text/plain": [
       "<Figure size 432x288 with 1 Axes>"
      ]
     },
     "metadata": {},
     "output_type": "display_data"
    }
   ],
   "source": [
    "layers = [784,20,10]\n",
    "costarr = []\n",
    "W1 = np.random.rand(layers[1], layers[0])*np.sqrt(1/layers[0])*0.01\n",
    "W2 = np.random.rand(layers[2], layers[1])*np.sqrt(1/layers[1])*0.01\n",
    "b1 = np.zeros((layers[1],1)).astype('float32')\n",
    "b2 = np.zeros((layers[2],1)).astype('float32')\n",
    "print(W1)\n",
    "W = [W1,W2,b1,b2]  \n",
    "m = X_train_scaled.shape[1]\n",
    "for i in range(4000):\n",
    "    cache = forwardProp(W,X_train_scaled, layers)\n",
    "    W = backProp(cache, Y_train,X_train_scaled, W, 0.05,m)\n",
    "    if(i%100 == 0):\n",
    "        a = cost(cache[\"a2\"], Y_train, m)\n",
    "        print(a)\n",
    "        costarr.append(a)\n",
    "\n",
    "plt.plot(costarr)\n",
    "plt.show()"
   ]
  },
  {
   "cell_type": "code",
   "execution_count": 8,
   "metadata": {
    "id": "loMw5Dq2AZ2G",
    "colab_type": "code",
    "colab": {
     "base_uri": "https://localhost:8080/",
     "height": 243.0
    },
    "outputId": "edad843d-e796-48f8-b458-f9d81f38e65e"
   },
   "outputs": [
    {
     "name": "stdout",
     "output_type": "stream",
     "text": [
      "[[ 1.06318330e-01  1.06046819e-01  1.06138282e-01 ...  1.06164799e-01\n   1.06033803e-01  1.06159277e-01]\n [ 7.94395598e-02  7.93884126e-02  7.93444788e-02 ...  7.93504562e-02\n   7.95221049e-02  7.93534090e-02]\n [-2.44516321e-02 -2.44697253e-02 -2.44437038e-02 ... -2.46515501e-02\n  -2.44992844e-02 -2.45368663e-02]\n ...\n [ 2.34314753e-05  2.80800828e-04  1.91869395e-05 ...  1.31866083e-04\n   1.19320355e-04  1.59417353e-04]\n [ 3.30430671e-01  3.30249593e-01  3.30190192e-01 ...  3.30371240e-01\n   3.30172388e-01  3.30327644e-01]\n [ 9.99551583e-02  9.99922639e-02  9.97864602e-02 ...  1.00124863e-01\n   1.00051916e-01  9.98233020e-02]]\n"
     ]
    }
   ],
   "source": [
    "print(W[0])\n",
    "def predict(xin,W, layers):\n",
    "  cache = forwardProp(W,xin, layers)\n",
    "  return cache[\"a2\"]\n",
    "\n",
    "def predict_test(xin,y, W, layers):\n",
    "  op = predict(xin, W, layers)\n",
    "  op = (op==np.max(op, axis = 0))\n",
    "  print(op)\n",
    "  wrong = np.sum(np.abs(op - y), axis = 0)\n",
    "  acc = np.sum(wrong == 0)/xin.shape[1]*100\n",
    "  return acc"
   ]
  },
  {
   "cell_type": "code",
   "execution_count": 9,
   "metadata": {
    "id": "ObMPUsYhBcsV",
    "colab_type": "code",
    "colab": {
     "base_uri": "https://localhost:8080/",
     "height": 352.0
    },
    "outputId": "38398ecd-e49a-4d04-8b9c-8c8a9d1c3310"
   },
   "outputs": [
    {
     "name": "stderr",
     "output_type": "stream",
     "text": [
      "/home/abhinavj98/.virtualenvs/mnist_tensorflow/lib/python3.5/site-packages/matplotlib/image.py:369: UserWarning: Casting input data from 'float128' to 'float64'for imshow\n  \"for imshow\".format(A.dtype))\n"
     ]
    },
    {
     "data": {
      "image/png": "[encoded data removed]",
      "text/plain": [
       "<Figure size 432x288 with 1 Axes>"
      ]
     },
     "metadata": {},
     "output_type": "display_data"
    },
    {
     "name": "stdout",
     "output_type": "stream",
     "text": [
      "0\n[[False False False ... False False False]\n [False False False ... False False False]\n [False False False ... False False  True]\n ...\n [False False False ... False False False]\n [ True False  True ... False False False]\n [False False False ... False  True False]]\n90.64\n"
     ]
    }
   ],
   "source": [
    "num = 7999\n",
    "plt.imshow((X_train.T)[num].reshape(28,28), cmap = 'gray')\n",
    "plt.show()\n",
    "cache = predict((X_train.T)[num].reshape(-1,1), W, layers)\n",
    "\n",
    "print(np.argmax(cache))\n",
    "\n",
    "acc = predict_test(X_test_scaled, Y_test, W, layers)\n",
    "print(acc)"
   ]
  },
  {
   "cell_type": "code",
   "execution_count": null,
   "metadata": {},
   "outputs": [],
   "source": []
  }
 ],
 "metadata": {
  "colab": {
   "name": "Untitled3.ipynb",
   "version": "0.3.2",
   "provenance": [],
   "collapsed_sections": []
  },
  "kernelspec": {
   "name": "python3",
   "display_name": "Python 3"
  }
 },
 "nbformat": 4,
 "nbformat_minor": 0
}
