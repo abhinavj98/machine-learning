{
 "cells": [
  {
   "cell_type": "code",
   "execution_count": 2,
   "metadata": {
    "id": "yBiVVs431nSC",
    "colab_type": "code",
    "colab": {}
   },
   "outputs": [],
   "source": [
    "import numpy as np\n",
    "import matplotlib\n",
    "import sklearn.datasets\n",
    "import sklearn.model_selection\n",
    "from sklearn.preprocessing import scale\n",
    "import matplotlib.pyplot as plt\n",
    "import random\n",
    "\n",
    "from datetime import datetime\n",
    "from sklearn.model_selection import train_test_split\n",
    "%matplotlib inline"
   ]
  },
  {
   "cell_type": "markdown",
   "metadata": {
    "id": "mndPuxei1xoH",
    "colab_type": "text"
   },
   "source": [
    ""
   ]
  },
  {
   "cell_type": "code",
   "execution_count": 3,
   "metadata": {
    "id": "Y2BmZPUc1rkx",
    "colab_type": "code",
    "colab": {}
   },
   "outputs": [],
   "source": [
    "random.seed(datetime.now())\n",
    "\n",
    "mnist = sklearn.datasets.fetch_openml('mnist_784')\n"
   ]
  },
  {
   "cell_type": "code",
   "execution_count": 14,
   "metadata": {
    "id": "z8JKenXp5cW8",
    "colab_type": "code",
    "colab": {
     "base_uri": "https://localhost:8080/",
     "height": 331.0
    },
    "outputId": "47ab26e6-dbfe-4882-f388-dc1cf3e94677",
    "collapsed": true
   },
   "outputs": [
    {
     "name": "stderr",
     "output_type": "stream",
     "text": [
      "/home/abhinavj98/.virtualenvs/mnist_tensorflow/lib/python3.5/site-packages/sklearn/utils/validation.py:595: DataConversionWarning: Data with input dtype float128 was converted to float64 by the scale function.\n  warnings.warn(msg, DataConversionWarning)\n"
     ]
    },
    {
     "name": "stderr",
     "output_type": "stream",
     "text": [
      "/home/abhinavj98/.virtualenvs/mnist_tensorflow/lib/python3.5/site-packages/sklearn/utils/validation.py:595: DataConversionWarning: Data with input dtype float128 was converted to float64 by the scale function.\n  warnings.warn(msg, DataConversionWarning)\n"
     ]
    },
    {
     "name": "stderr",
     "output_type": "stream",
     "text": [
      "/home/abhinavj98/.virtualenvs/mnist_tensorflow/lib/python3.5/site-packages/matplotlib/image.py:369: UserWarning: Casting input data from 'float128' to 'float64'for imshow\n  \"for imshow\".format(A.dtype))\n"
     ]
    },
    {
     "data": {
      "image/png": "[encoded data removed]",
      "text/plain": [
       "<Figure size 432x288 with 10 Axes>"
      ]
     },
     "metadata": {},
     "output_type": "display_data"
    }
   ],
   "source": [
    " #Visualising data\n",
    "\n",
    "Xraw = mnist.data.astype('float128')\n",
    "yraw = mnist.target.astype('int64')\n",
    "\n",
    "X_train, X_test, y_train, y_test = train_test_split(Xraw, yraw, test_size=0.25, random_state=42)\n",
    "\n",
    "X_train = (X_train.T/255)\n",
    "X_test = (X_test.T/255)\n",
    "y_train_raw = (y_train.reshape(1,-1))\n",
    "y_test_raw = (y_test.reshape(1,-1))\n",
    "\n",
    "\n",
    "Y_train = np.zeros((10, y_train_raw.shape[1]))\n",
    "Y_test = np.zeros((10, y_test_raw.shape[1]))\n",
    "\n",
    "\n",
    "for i,j in enumerate(y_train_raw.T):\n",
    "  Y_train[j,i]=1\n",
    "for i,j in enumerate(y_test_raw.T):\n",
    "  Y_test[j,i]=1\n",
    "\n",
    "X_train_scaled = scale(X_train)\n",
    "X_test_scaled = scale(X_test)\n",
    "\n",
    "for i in range(10):\n",
    "  temp = random.randint(0, mnist.data.shape[1])\n",
    "  plt.subplot(2,5,i+1)\n",
    "  plt.imshow((X_train.T)[temp].reshape(28,28), cmap = 'gray')\n",
    "  \n",
    "plt.show()"
   ]
  },
  {
   "cell_type": "code",
   "execution_count": 54,
   "metadata": {
    "id": "59XUAII5bJHe",
    "colab_type": "code",
    "colab": {}
   },
   "outputs": [],
   "source": [
    "def sigmoid(x):\n",
    "  return 1/(1+np.e ** -x)\n",
    "\n",
    "def derive(x,act):\n",
    "  if act == \"RELU\":\n",
    "    a = np.multiply((x > 0),x)\n",
    "    return a\n",
    "  if act == \"SIGMOID\":\n",
    "    return np.multiply(x,(1-x))\n",
    "\n",
    "def forwardProp(W,X,layers):\n",
    "    \n",
    "  cache = {}\n",
    "  W1 = W[0]\n",
    "  W2 = W[1]\n",
    "  b1 = W[2]\n",
    "  b2 = W[3]\n",
    "  \n",
    "  #Layer 1\n",
    "  z1 = (np.dot(W1, X)) + b1\n",
    "  a1 = np.multiply(z1,(z1 > 0)).astype('float32')\n",
    "  \n",
    "  #Layer 2\n",
    "  z2 = (np.dot(W2, a1)).astype('float32') + b2\n",
    "  a2 = sigmoid(z2).astype('float32')\n",
    "  \n",
    "  cach = {\"a1\" : a1, \"b1\":b1, \"z1\":z1, \"b2\":b2, \"a2\":a2, \"z2\":z2}\n",
    "  return cach\n",
    "    \n",
    "def cost(AL,Y,m):\n",
    "  cost = -1/m*np.sum((np.multiply(Y,np.log(AL))+np.multiply(1-Y,np.log(1-AL))))\n",
    "  return cost\n",
    "\n",
    "def backProp(cache, y, X, W, alpha=0.1,m = 70000):\n",
    "  W1 = W[0]\n",
    "  W2 = W[1]\n",
    "  b1 = W[2]\n",
    "  b2 = W[3]\n",
    "  \n",
    "  dz2 = cache[\"a2\"]- y\n",
    "  dw2 = 1/m*np.dot(dz2, cache[\"a1\"].T)\n",
    "  db2 = 1/m*np.sum(dz2, axis = 1, keepdims = True)\n",
    "  \n",
    "  dz1 = np.dot(W2.T,dz2)\n",
    "  dz1 = np.multiply(dz1, derive(cache[\"z1\"], \"RELU\"))\n",
    "  \n",
    "  dw1 = 1/m*(np.dot(dz1,X.T))\n",
    "  db1 = 1/m*np.sum(dz1, axis = 1, keepdims = True)\n",
    "  \n",
    "  W2 = W2 - alpha*dw2\n",
    "  W1 = W1 - alpha*dw1\n",
    "  \n",
    "  b1 = b1 - alpha*db1\n",
    "  b2 = b2 - alpha*db2\n",
    "\n",
    "  W = [W1, W2, b1, b2]\n",
    "  return W"
   ]
  },
  {
   "cell_type": "code",
   "execution_count": 101,
   "metadata": {
    "id": "KquIFI7-1r81",
    "colab_type": "code",
    "colab": {
     "base_uri": "https://localhost:8080/",
     "height": 607.0
    },
    "outputId": "62dc79dd-315e-4521-97a9-168169dc14c3",
    "collapsed": false
   },
   "outputs": [
    {
     "name": "stdout",
     "output_type": "stream",
     "text": [
      "[[2.31598466e-04 2.65128715e-05 3.47865679e-04 ... 2.78397223e-04\n  3.82775255e-05 1.34692729e-05]\n [2.02045330e-05 2.27844778e-04 9.58200610e-05 ... 3.02409529e-04\n  2.63449822e-04 2.55424756e-04]\n [1.95243489e-04 8.12258141e-05 8.96973184e-05 ... 2.97362678e-04\n  8.50211996e-05 3.04920076e-04]\n ...\n [3.55352332e-05 2.70804808e-04 2.70384311e-04 ... 2.79338279e-06\n  2.91022530e-04 1.30965508e-04]\n [1.24852543e-04 1.09135423e-04 3.27088176e-04 ... 2.95973412e-04\n  2.64694198e-04 3.53758167e-05]\n [2.05614106e-04 1.12602891e-04 1.60283088e-04 ... 1.13308949e-04\n  9.90604295e-05 6.74620571e-05]]\n"
     ]
    },
    {
     "name": "stdout",
     "output_type": "stream",
     "text": [
      "6.931573322750273\n"
     ]
    },
    {
     "name": "stdout",
     "output_type": "stream",
     "text": [
      "3.2420829502091517\n"
     ]
    },
    {
     "name": "stdout",
     "output_type": "stream",
     "text": [
      "2.6310848112752105\n"
     ]
    },
    {
     "name": "stderr",
     "output_type": "stream",
     "text": [
      "/home/abhinavj98/.virtualenvs/mnist_tensorflow/lib/python3.5/site-packages/ipykernel_launcher.py:31: RuntimeWarning: divide by zero encountered in log\n/home/abhinavj98/.virtualenvs/mnist_tensorflow/lib/python3.5/site-packages/ipykernel_launcher.py:31: RuntimeWarning: invalid value encountered in multiply\n"
     ]
    },
    {
     "name": "stdout",
     "output_type": "stream",
     "text": [
      "nan\n"
     ]
    },
    {
     "name": "stdout",
     "output_type": "stream",
     "text": [
      "2.879645991068759\n"
     ]
    },
    {
     "name": "stdout",
     "output_type": "stream",
     "text": [
      "2.8710758124424487\n"
     ]
    },
    {
     "name": "stdout",
     "output_type": "stream",
     "text": [
      "2.870767705742008\n"
     ]
    },
    {
     "name": "stdout",
     "output_type": "stream",
     "text": [
      "2.869319655330245\n"
     ]
    },
    {
     "name": "stdout",
     "output_type": "stream",
     "text": [
      "2.873749546746388\n"
     ]
    },
    {
     "name": "stdout",
     "output_type": "stream",
     "text": [
      "2.871129863548923\n"
     ]
    },
    {
     "name": "stdout",
     "output_type": "stream",
     "text": [
      "2.8708366895353246\n"
     ]
    },
    {
     "name": "stdout",
     "output_type": "stream",
     "text": [
      "nan\n"
     ]
    },
    {
     "name": "stdout",
     "output_type": "stream",
     "text": [
      "nan\n"
     ]
    },
    {
     "name": "stdout",
     "output_type": "stream",
     "text": [
      "nan\n"
     ]
    },
    {
     "name": "stdout",
     "output_type": "stream",
     "text": [
      "nan\n"
     ]
    },
    {
     "name": "stdout",
     "output_type": "stream",
     "text": [
      "nan\n"
     ]
    },
    {
     "name": "stdout",
     "output_type": "stream",
     "text": [
      "nan\n"
     ]
    },
    {
     "name": "stdout",
     "output_type": "stream",
     "text": [
      "nan\n"
     ]
    },
    {
     "name": "stdout",
     "output_type": "stream",
     "text": [
      "nan\n"
     ]
    },
    {
     "name": "stdout",
     "output_type": "stream",
     "text": [
      "nan\n"
     ]
    },
    {
     "data": {
      "image/png": "[encoded data removed]",
      "text/plain": [
       "<Figure size 432x288 with 1 Axes>"
      ]
     },
     "metadata": {},
     "output_type": "display_data"
    }
   ],
   "source": [
    "layers = [784,20,10]\n",
    "costarr = []\n",
    "W1 = np.random.rand(layers[1], layers[0])*np.sqrt(1/layers[0])*0.01\n",
    "W2 = np.random.rand(layers[2], layers[1])*np.sqrt(1/layers[1])*0.01\n",
    "b1 = np.zeros((layers[1],1)).astype('float32')\n",
    "b2 = np.zeros((layers[2],1)).astype('float32')\n",
    "print(W1)\n",
    "W = [W1,W2,b1,b2]  \n",
    "m = X_train_scaled.shape[1]\n",
    "for i in range(2000):\n",
    "    cache = forwardProp(W,X_train_scaled, layers)\n",
    "    W = backProp(cache, Y_train,X_train_scaled, W, 0.3,m)\n",
    "    if(i%100 == 0):\n",
    "        a = cost(cache[\"a2\"], Y_train, m)\n",
    "        print(a)\n",
    "        costarr.append(a)\n",
    "\n",
    "plt.plot(costarr)\n",
    "plt.show()"
   ]
  },
  {
   "cell_type": "code",
   "execution_count": 86,
   "metadata": {
    "id": "loMw5Dq2AZ2G",
    "colab_type": "code",
    "colab": {
     "base_uri": "https://localhost:8080/",
     "height": 243.0
    },
    "outputId": "edad843d-e796-48f8-b458-f9d81f38e65e"
   },
   "outputs": [
    {
     "name": "stdout",
     "output_type": "stream",
     "text": [
      "[[ 1.74935726e-04  1.20972772e-04  3.25807886e-04 ...  3.82929137e-05\n   3.10510961e-04  7.46643825e-05]\n [ 2.03479759e-04  3.21355424e-04  7.33526975e-05 ...  3.07672735e-04\n   9.10820234e-05  2.18780227e-04]\n [ 2.32426162e-04  2.66045897e-04  2.81934967e-04 ...  2.99649589e-04\n   2.99226124e-04  1.23778178e-04]\n ...\n [ 1.67546021e-01  1.67476575e-01  1.67420789e-01 ...  1.67637524e-01\n   1.67454399e-01  1.67558854e-01]\n [ 2.08504348e-04 -1.05300113e-05  5.36837805e-05 ...  2.23784287e-04\n  -6.13752507e-06  1.58440657e-05]\n [ 1.76607744e-05  1.39766162e-04  3.34571512e-04 ...  1.73414223e-04\n   5.93297875e-05  2.08270726e-04]]\n"
     ]
    }
   ],
   "source": [
    "print(W[0])\n",
    "def predict(xin,W, layers):\n",
    "  cache = forwardProp(W,xin, layers)\n",
    "  return cache[\"a2\"]\n",
    "\n",
    "def predict_test(xin,y, W, layers):\n",
    "  op = predict(xin, W, layers)\n",
    "  op = (op==np.max(op, axis = 0))\n",
    "  print(op)\n",
    "  wrong = np.sum(np.abs(op - y), axis = 0)\n",
    "  acc = np.sum(wrong == 0)/xin.shape[1]*100\n",
    "  return acc"
   ]
  },
  {
   "cell_type": "code",
   "execution_count": null,
   "metadata": {
    "id": "ObMPUsYhBcsV",
    "colab_type": "code",
    "colab": {
     "base_uri": "https://localhost:8080/",
     "height": 352.0
    },
    "outputId": "38398ecd-e49a-4d04-8b9c-8c8a9d1c3310"
   },
   "outputs": [
    {
     "name": "stderr",
     "output_type": "stream",
     "text": [
      "/home/abhinavj98/.virtualenvs/mnist_tensorflow/lib/python3.5/site-packages/matplotlib/image.py:369: UserWarning: Casting input data from 'float128' to 'float64'for imshow\n  \"for imshow\".format(A.dtype))\n"
     ]
    },
    {
     "data": {
      "image/png": "[encoded data removed]",
      "text/plain": [
       "<Figure size 432x288 with 1 Axes>"
      ]
     },
     "metadata": {},
     "output_type": "display_data"
    },
    {
     "name": "stdout",
     "output_type": "stream",
     "text": [
      "0\n[[False False False ... False False False]\n [ True  True  True ...  True  True  True]\n [False False False ... False False False]\n ...\n [False False False ... False False False]\n [False False False ... False False False]\n [False False False ... False False False]]\n21.165714285714284\n"
     ]
    }
   ],
   "source": [
    "num = 7999\n",
    "plt.imshow((X_train.T)[num].reshape(28,28), cmap = 'gray')\n",
    "plt.show()\n",
    "cache = predict((X_train.T)[num].reshape(-1,1), W, layers)\n",
    "\n",
    "print(np.argmax(cache))\n",
    "\n",
    "acc = predict_test(X_test_scaled, Y_test, W, layers)\n",
    "print(acc)"
   ]
  },
  {
   "cell_type": "code",
   "execution_count": null,
   "metadata": {},
   "outputs": [],
   "source": []
  }
 ],
 "metadata": {
  "colab": {
   "name": "Untitled3.ipynb",
   "version": "0.3.2",
   "provenance": [],
   "collapsed_sections": []
  },
  "kernelspec": {
   "name": "python3",
   "display_name": "Python 3"
  }
 },
 "nbformat": 4,
 "nbformat_minor": 0
}
